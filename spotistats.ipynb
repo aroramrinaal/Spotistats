{
 "cells": [
  {
   "cell_type": "code",
   "execution_count": null,
   "metadata": {},
   "outputs": [],
   "source": [
    "import pandas as pd\n",
    "import os\n",
    "import numpy as np\n",
    "import matplotlib.pyplot as plt\n",
    "import seaborn as sns"
   ]
  },
  {
   "cell_type": "code",
   "execution_count": null,
   "metadata": {},
   "outputs": [],
   "source": [
    "directory = '/Users/mrinaalarora/Downloads/Spotify Extended Streaming History'\n",
    "dataframes = []\n",
    "\n",
    "for filename in os.listdir(directory):\n",
    "    if filename.endswith('.json'):\n",
    "        filepath = os.path.join(directory, filename)\n",
    "        df = pd.read_json(filepath)\n",
    "        dataframes.append(df)\n",
    "\n",
    "combined_df = pd.concat(dataframes, ignore_index=True)\n",
    "combined_df.to_json('spotify_data.json', orient='records', lines=True)"
   ]
  },
  {
   "cell_type": "code",
   "execution_count": null,
   "metadata": {},
   "outputs": [],
   "source": [
    "my_data = pd.read_json('data/spotify_data.json',lines=True)\n",
    "my_data"
   ]
  },
  {
   "cell_type": "code",
   "execution_count": null,
   "metadata": {},
   "outputs": [],
   "source": [
    "# Data Preparation and Cleaning\n",
    "relevant_columns = [ \"ts\", \"platform\", \"ms_played\", \"conn_country\", \"master_metadata_track_name\", \"master_metadata_album_artist_name\", \"master_metadata_album_album_name\", \"shuffle\", \"skipped\", \"offline\", \"incognito_mode\" ]\n",
    "spotify_stream_df = my_data[relevant_columns]\n",
    "spotify_stream_df # to read all the dataframe at once"
   ]
  },
  {
   "cell_type": "code",
   "execution_count": null,
   "metadata": {},
   "outputs": [],
   "source": [
    "# Number of unique artists\n",
    "unique_artists = spotify_stream_df['master_metadata_album_artist_name'].nunique()\n",
    "print(f\"Number of unique artists: {unique_artists}\")"
   ]
  },
  {
   "cell_type": "code",
   "execution_count": null,
   "metadata": {},
   "outputs": [],
   "source": [
    "# Number of unique tracks\n",
    "unique_tracks = spotify_stream_df['master_metadata_track_name'].nunique()\n",
    "print(f\"Number of unique tracks: {unique_tracks}\")"
   ]
  },
  {
   "cell_type": "code",
   "execution_count": null,
   "metadata": {},
   "outputs": [],
   "source": [
    "# Converting 'ts' to datetime\n",
    "spotify_stream_df['Play-Time'] = pd.to_datetime(spotify_stream_df['ts'])\n",
    "\n",
    "# Extract year, month, day, weekday, time, hour, day_name\n",
    "spotify_stream_df['year'] = pd.DatetimeIndex(spotify_stream_df[\"Play-Time\"]).year\n",
    "spotify_stream_df['month'] = pd.DatetimeIndex(spotify_stream_df[\"Play-Time\"]).month\n",
    "spotify_stream_df['day'] = pd.DatetimeIndex(spotify_stream_df[\"Play-Time\"]).day\n",
    "spotify_stream_df['weekday'] = pd.DatetimeIndex(spotify_stream_df[\"Play-Time\"]).weekday\n",
    "spotify_stream_df['time'] = pd.DatetimeIndex(spotify_stream_df[\"Play-Time\"]).time\n",
    "spotify_stream_df['hours'] = pd.DatetimeIndex(spotify_stream_df[\"Play-Time\"]).hour\n",
    "spotify_stream_df['day-name'] = spotify_stream_df[\"Play-Time\"].apply(lambda x: x.day_name())\n",
    "\n",
    "# Add Count column\n",
    "spotify_stream_df['Count'] = 1\n",
    "\n",
    "# Convert milliseconds played to timedeltas\n",
    "spotify_stream_df[\"Time-Played (hh-mm-ss)\"] = pd.to_timedelta(spotify_stream_df[\"ms_played\"], unit='ms')\n",
    "\n",
    "# Functions to extract hours and minutes from timedeltas\n",
    "def hours(td):\n",
    "    '''To get the hour information'''\n",
    "    return td.seconds / 3600\n",
    "\n",
    "def minutes(td):\n",
    "    '''To get the minutes information'''\n",
    "    return (td.seconds / 60) % 60\n",
    "\n",
    "# Apply functions to extract listening time in hours and minutes\n",
    "spotify_stream_df[\"Listening Time (Hours)\"] = spotify_stream_df[\"Time-Played (hh-mm-ss)\"].apply(hours).round(3)\n",
    "spotify_stream_df[\"Listening Time (Minutes)\"] = spotify_stream_df[\"Time-Played (hh-mm-ss)\"].apply(minutes).round(3)\n",
    "spotify_stream_df.sample(3)"
   ]
  },
  {
   "cell_type": "code",
   "execution_count": null,
   "metadata": {},
   "outputs": [],
   "source": [
    "columns_to_drop = ['ts','ms_played','Time-Played (hh-mm-ss)']\n",
    "spotify_stream_df.drop(columns=columns_to_drop, inplace=True, errors='ignore')\n",
    "\n",
    "# Display a sample of the DataFrame to verify the correct columns have been removed\n",
    "spotify_stream_df"
   ]
  },
  {
   "cell_type": "code",
   "execution_count": null,
   "metadata": {},
   "outputs": [],
   "source": [
    "# Percentage of Unique Artists\n",
    "\n",
    "unique_artists = spotify_stream_df[\"master_metadata_album_artist_name\"].nunique()\n",
    "total_artists = spotify_stream_df[\"master_metadata_album_artist_name\"].count()\n",
    "unique_artist_percentage = (unique_artists / total_artists) * 100\n",
    "\n",
    "# Prepare data for the pie chart\n",
    "unique_artist_list = np.array([unique_artists, total_artists - unique_artists])\n",
    "unique_artist_list_labels = [\"Unique Artists\", \"Non Unique Artists\"]\n",
    "\n",
    "# Create a pie chart\n",
    "fig, ax = plt.subplots(figsize=(12, 6))\n",
    "ax.pie(unique_artist_list, labels=unique_artist_list_labels, autopct='%1.1f%%', explode=[0.05, 0.05], startangle=180, shadow=True)\n",
    "plt.title(\"Unique Artist Percentage\")\n",
    "plt.show()\n",
    "\n",
    "# Print the calculated percentages for reference\n",
    "print(f\"Number of unique artists: {unique_artists}\")\n",
    "print(f\"Total number of artist entries: {total_artists}\")\n",
    "print(f\"Percentage of unique artists: {unique_artist_percentage:.2f}%\")"
   ]
  },
  {
   "cell_type": "code",
   "execution_count": 14,
   "metadata": {},
   "outputs": [],
   "source": [
    "# Group by artist name and calculate the sum of listening time and counts\n",
    "top_artists_df = spotify_stream_df.groupby(\"master_metadata_album_artist_name\")[[\"Listening Time (Hours)\", \"Listening Time (Minutes)\", \"Count\"]].sum()\n",
    "\n",
    "# Top 10 artists by Listening Time (Hours)\n",
    "top_10_artists_hours = top_artists_df.sort_values(by=\"Listening Time (Hours)\", ascending=False).head(10)\n",
    "# Top 10 artists by Count\n",
    "top_10_artists_count = top_artists_df.sort_values(by=\"Count\", ascending=False).head(10)"
   ]
  }
 ],
 "metadata": {
  "kernelspec": {
   "display_name": "Python 3 (ipykernel)",
   "language": "python",
   "name": "python3"
  },
  "language_info": {
   "codemirror_mode": {
    "name": "ipython",
    "version": 3
   },
   "file_extension": ".py",
   "mimetype": "text/x-python",
   "name": "python",
   "nbconvert_exporter": "python",
   "pygments_lexer": "ipython3",
   "version": "3.10.13"
  }
 },
 "nbformat": 4,
 "nbformat_minor": 2
}
